{
 "cells": [
  {
   "cell_type": "code",
   "execution_count": 143,
   "metadata": {
    "ExecuteTime": {
     "end_time": "2023-05-12T13:17:49.195911Z",
     "start_time": "2023-05-12T13:17:49.170296Z"
    },
    "collapsed": true
   },
   "outputs": [],
   "source": [
    "import pandas as pd\n",
    "import numpy as np\n",
    "import seaborn as sns\n",
    "import matplotlib.pyplot as plt\n"
   ]
  },
  {
   "cell_type": "code",
   "execution_count": 144,
   "metadata": {
    "ExecuteTime": {
     "end_time": "2023-05-12T13:17:49.325947Z",
     "start_time": "2023-05-12T13:17:49.226452Z"
    },
    "collapsed": false
   },
   "outputs": [
    {
     "data": {
      "text/plain": [
       "Index(['Unnamed: 0', 'Especie Vegetal ', 'Fecha', 'Sp Entomológica ',\n",
       "       'No. Individuos ', 'Suelo', 'Hojas', 'Hojas Ramas', 'Fruto',\n",
       "       'Tallo Ramas', 'Tallo Hojas', 'Vuelo', 'Vuelo Hojas',\n",
       "       'Vegetacion Aledaña', 'Flor Fruto', 'Vegetacion Tallo', 'Flor',\n",
       "       'Tronco', 'Vuelo Fruto', 'Vuelo Vegetacion ', 'Sustrato '],\n",
       "      dtype='object')"
      ]
     },
     "execution_count": 144,
     "metadata": {},
     "output_type": "execute_result"
    }
   ],
   "source": [
    "df = pd.read_csv('db_jardin.csv')\n",
    "df.columns"
   ]
  },
  {
   "cell_type": "code",
   "execution_count": 145,
   "metadata": {
    "ExecuteTime": {
     "end_time": "2023-05-12T13:17:49.388054Z",
     "start_time": "2023-05-12T13:17:49.366528Z"
    },
    "collapsed": false
   },
   "outputs": [
    {
     "name": "stdout",
     "output_type": "stream",
     "text": [
      "<class 'pandas.core.frame.DataFrame'>\n",
      "RangeIndex: 6540 entries, 0 to 6539\n",
      "Data columns (total 21 columns):\n",
      " #   Column              Non-Null Count  Dtype  \n",
      "---  ------              --------------  -----  \n",
      " 0   Unnamed: 0          6540 non-null   int64  \n",
      " 1   Especie Vegetal     6540 non-null   object \n",
      " 2   Fecha               6500 non-null   object \n",
      " 3   Sp Entomológica     5400 non-null   object \n",
      " 4   No. Individuos      5370 non-null   float64\n",
      " 5   Suelo               700 non-null    object \n",
      " 6   Hojas               720 non-null    object \n",
      " 7   Hojas Ramas         1270 non-null   object \n",
      " 8   Fruto               20 non-null     object \n",
      " 9   Tallo Ramas         300 non-null    object \n",
      " 10  Tallo Hojas         10 non-null     object \n",
      " 11  Vuelo               130 non-null    object \n",
      " 12  Vuelo Hojas         20 non-null     object \n",
      " 13  Vegetacion Aledaña  1200 non-null   object \n",
      " 14  Flor Fruto          90 non-null     object \n",
      " 15  Vegetacion Tallo    30 non-null     object \n",
      " 16  Flor                40 non-null     object \n",
      " 17  Tronco              10 non-null     object \n",
      " 18  Vuelo Fruto         10 non-null     object \n",
      " 19  Vuelo Vegetacion    10 non-null     object \n",
      " 20  Sustrato            4640 non-null   object \n",
      "dtypes: float64(1), int64(1), object(19)\n",
      "memory usage: 1.0+ MB\n"
     ]
    }
   ],
   "source": [
    "df.info()"
   ]
  },
  {
   "cell_type": "code",
   "execution_count": 146,
   "metadata": {},
   "outputs": [
    {
     "data": {
      "text/plain": [
       "'2023-10-16'"
      ]
     },
     "execution_count": 146,
     "metadata": {},
     "output_type": "execute_result"
    }
   ],
   "source": [
    "df['Fecha'].tolist()[0]"
   ]
  },
  {
   "cell_type": "code",
   "execution_count": 147,
   "metadata": {},
   "outputs": [],
   "source": [
    "# display(df.loc[(df['Sp Entomológica '].str.contains('o')) | (df['Sp Entomológica '].str.contains('ó')), 'Sp Entomológica '])\n",
    "df['Sp Entomológica '] = df['Sp Entomológica '].astype(str)\n",
    "df = df.loc[~(df['Sp Entomológica '].str.contains('o')) & ~(df['Sp Entomológica '].str.contains('ó'))]\n",
    "df = df.loc[(df['Sp Entomológica '] != 'nan')]\n",
    "df['Fecha'] = pd.to_datetime(df['Fecha'])\n",
    "df = df.loc[df['Fecha'].dt.year != 2023]\n",
    "df = df.sort_values(by='Fecha')"
   ]
  },
  {
   "cell_type": "code",
   "execution_count": 148,
   "metadata": {},
   "outputs": [
    {
     "data": {
      "text/html": [
       "<div>\n",
       "<style scoped>\n",
       "    .dataframe tbody tr th:only-of-type {\n",
       "        vertical-align: middle;\n",
       "    }\n",
       "\n",
       "    .dataframe tbody tr th {\n",
       "        vertical-align: top;\n",
       "    }\n",
       "\n",
       "    .dataframe thead th {\n",
       "        text-align: right;\n",
       "    }\n",
       "</style>\n",
       "<table border=\"1\" class=\"dataframe\">\n",
       "  <thead>\n",
       "    <tr style=\"text-align: right;\">\n",
       "      <th></th>\n",
       "      <th>Unnamed: 0</th>\n",
       "      <th>Especie Vegetal</th>\n",
       "      <th>Fecha</th>\n",
       "      <th>Sp Entomológica</th>\n",
       "      <th>No. Individuos</th>\n",
       "      <th>Suelo</th>\n",
       "      <th>Hojas</th>\n",
       "      <th>Hojas Ramas</th>\n",
       "      <th>Fruto</th>\n",
       "      <th>Tallo Ramas</th>\n",
       "      <th>...</th>\n",
       "      <th>Vuelo</th>\n",
       "      <th>Vuelo Hojas</th>\n",
       "      <th>Vegetacion Aledaña</th>\n",
       "      <th>Flor Fruto</th>\n",
       "      <th>Vegetacion Tallo</th>\n",
       "      <th>Flor</th>\n",
       "      <th>Tronco</th>\n",
       "      <th>Vuelo Fruto</th>\n",
       "      <th>Vuelo Vegetacion</th>\n",
       "      <th>Sustrato</th>\n",
       "    </tr>\n",
       "  </thead>\n",
       "  <tbody>\n",
       "    <tr>\n",
       "      <th>1594</th>\n",
       "      <td>1594</td>\n",
       "      <td>Quercus autopista</td>\n",
       "      <td>2021-10-17</td>\n",
       "      <td>Sp55</td>\n",
       "      <td>1.0</td>\n",
       "      <td>NaN</td>\n",
       "      <td>si</td>\n",
       "      <td>NaN</td>\n",
       "      <td>NaN</td>\n",
       "      <td>NaN</td>\n",
       "      <td>...</td>\n",
       "      <td>NaN</td>\n",
       "      <td>NaN</td>\n",
       "      <td>NaN</td>\n",
       "      <td>NaN</td>\n",
       "      <td>NaN</td>\n",
       "      <td>NaN</td>\n",
       "      <td>NaN</td>\n",
       "      <td>NaN</td>\n",
       "      <td>NaN</td>\n",
       "      <td>Hojas</td>\n",
       "    </tr>\n",
       "    <tr>\n",
       "      <th>2872</th>\n",
       "      <td>2872</td>\n",
       "      <td>Rhus standleyi</td>\n",
       "      <td>2021-10-17</td>\n",
       "      <td>Sp6</td>\n",
       "      <td>1.0</td>\n",
       "      <td>NaN</td>\n",
       "      <td>si</td>\n",
       "      <td>NaN</td>\n",
       "      <td>NaN</td>\n",
       "      <td>NaN</td>\n",
       "      <td>...</td>\n",
       "      <td>NaN</td>\n",
       "      <td>NaN</td>\n",
       "      <td>NaN</td>\n",
       "      <td>NaN</td>\n",
       "      <td>NaN</td>\n",
       "      <td>NaN</td>\n",
       "      <td>NaN</td>\n",
       "      <td>NaN</td>\n",
       "      <td>NaN</td>\n",
       "      <td>Hojas</td>\n",
       "    </tr>\n",
       "    <tr>\n",
       "      <th>2873</th>\n",
       "      <td>2873</td>\n",
       "      <td>Rhus standleyi</td>\n",
       "      <td>2021-10-17</td>\n",
       "      <td>Sp122</td>\n",
       "      <td>1.0</td>\n",
       "      <td>NaN</td>\n",
       "      <td>NaN</td>\n",
       "      <td>NaN</td>\n",
       "      <td>NaN</td>\n",
       "      <td>NaN</td>\n",
       "      <td>...</td>\n",
       "      <td>NaN</td>\n",
       "      <td>NaN</td>\n",
       "      <td>NaN</td>\n",
       "      <td>si</td>\n",
       "      <td>NaN</td>\n",
       "      <td>NaN</td>\n",
       "      <td>NaN</td>\n",
       "      <td>NaN</td>\n",
       "      <td>NaN</td>\n",
       "      <td>Flor Fruto</td>\n",
       "    </tr>\n",
       "    <tr>\n",
       "      <th>2874</th>\n",
       "      <td>2874</td>\n",
       "      <td>Rhus standleyi</td>\n",
       "      <td>2021-10-17</td>\n",
       "      <td>Sp123</td>\n",
       "      <td>1.0</td>\n",
       "      <td>NaN</td>\n",
       "      <td>NaN</td>\n",
       "      <td>NaN</td>\n",
       "      <td>NaN</td>\n",
       "      <td>NaN</td>\n",
       "      <td>...</td>\n",
       "      <td>NaN</td>\n",
       "      <td>NaN</td>\n",
       "      <td>NaN</td>\n",
       "      <td>si</td>\n",
       "      <td>NaN</td>\n",
       "      <td>NaN</td>\n",
       "      <td>NaN</td>\n",
       "      <td>NaN</td>\n",
       "      <td>NaN</td>\n",
       "      <td>Flor Fruto</td>\n",
       "    </tr>\n",
       "    <tr>\n",
       "      <th>2875</th>\n",
       "      <td>2875</td>\n",
       "      <td>Rhus standleyi</td>\n",
       "      <td>2021-10-17</td>\n",
       "      <td>Sp70</td>\n",
       "      <td>25.0</td>\n",
       "      <td>NaN</td>\n",
       "      <td>NaN</td>\n",
       "      <td>NaN</td>\n",
       "      <td>NaN</td>\n",
       "      <td>NaN</td>\n",
       "      <td>...</td>\n",
       "      <td>NaN</td>\n",
       "      <td>NaN</td>\n",
       "      <td>si</td>\n",
       "      <td>NaN</td>\n",
       "      <td>NaN</td>\n",
       "      <td>NaN</td>\n",
       "      <td>NaN</td>\n",
       "      <td>NaN</td>\n",
       "      <td>NaN</td>\n",
       "      <td>Vegetación Aledaña</td>\n",
       "    </tr>\n",
       "  </tbody>\n",
       "</table>\n",
       "<p>5 rows × 21 columns</p>\n",
       "</div>"
      ],
      "text/plain": [
       "      Unnamed: 0    Especie Vegetal       Fecha Sp Entomológica   \\\n",
       "1594        1594  Quercus autopista  2021-10-17             Sp55   \n",
       "2872        2872      Rhus standleyi 2021-10-17              Sp6   \n",
       "2873        2873      Rhus standleyi 2021-10-17            Sp122   \n",
       "2874        2874      Rhus standleyi 2021-10-17            Sp123   \n",
       "2875        2875      Rhus standleyi 2021-10-17             Sp70   \n",
       "\n",
       "      No. Individuos  Suelo Hojas Hojas Ramas Fruto Tallo Ramas  ... Vuelo  \\\n",
       "1594              1.0   NaN    si         NaN   NaN         NaN  ...   NaN   \n",
       "2872              1.0   NaN    si         NaN   NaN         NaN  ...   NaN   \n",
       "2873              1.0   NaN   NaN         NaN   NaN         NaN  ...   NaN   \n",
       "2874              1.0   NaN   NaN         NaN   NaN         NaN  ...   NaN   \n",
       "2875             25.0   NaN   NaN         NaN   NaN         NaN  ...   NaN   \n",
       "\n",
       "     Vuelo Hojas Vegetacion Aledaña Flor Fruto Vegetacion Tallo Flor Tronco  \\\n",
       "1594         NaN                NaN        NaN              NaN  NaN    NaN   \n",
       "2872         NaN                NaN        NaN              NaN  NaN    NaN   \n",
       "2873         NaN                NaN         si              NaN  NaN    NaN   \n",
       "2874         NaN                NaN         si              NaN  NaN    NaN   \n",
       "2875         NaN                 si        NaN              NaN  NaN    NaN   \n",
       "\n",
       "     Vuelo Fruto Vuelo Vegetacion            Sustrato   \n",
       "1594         NaN               NaN               Hojas  \n",
       "2872         NaN               NaN               Hojas  \n",
       "2873         NaN               NaN          Flor Fruto  \n",
       "2874         NaN               NaN          Flor Fruto  \n",
       "2875         NaN               NaN  Vegetación Aledaña  \n",
       "\n",
       "[5 rows x 21 columns]"
      ]
     },
     "execution_count": 148,
     "metadata": {},
     "output_type": "execute_result"
    }
   ],
   "source": [
    "df = df.loc[(df['Sp Entomológica '].str.contains('Sp'))]\n",
    "df.head()\n"
   ]
  },
  {
   "cell_type": "code",
   "execution_count": 149,
   "metadata": {
    "ExecuteTime": {
     "end_time": "2023-05-12T13:17:49.388708Z",
     "start_time": "2023-05-12T13:17:49.382290Z"
    },
    "collapsed": false
   },
   "outputs": [
    {
     "name": "stdout",
     "output_type": "stream",
     "text": [
      "número de especies unicas vegetales  43\n",
      "número de especies unicas  206\n",
      "número de entradas 5180\n",
      "total de individuos 13880.0\n"
     ]
    }
   ],
   "source": [
    "print('número de especies unicas vegetales ', len(df['Especie Vegetal '].unique()))\n",
    "print('número de especies unicas ', len(df['Sp Entomológica '].unique()))\n",
    "print('número de entradas', len(df))\n",
    "print('total de individuos', df['No. Individuos '].sum())"
   ]
  },
  {
   "cell_type": "code",
   "execution_count": 150,
   "metadata": {},
   "outputs": [],
   "source": [
    "df = df.loc[~(df['Fecha'].isna())]"
   ]
  },
  {
   "cell_type": "code",
   "execution_count": 151,
   "metadata": {},
   "outputs": [
    {
     "name": "stderr",
     "output_type": "stream",
     "text": [
      "/var/folders/tp/3mtqlk4s23vgyrhg80xv4lyc0000gn/T/ipykernel_26872/3577074896.py:2: FutureWarning: The default value of numeric_only in DataFrameGroupBy.sum is deprecated. In a future version, numeric_only will default to False. Either specify numeric_only or select only columns which should be valid for the function.\n",
      "  conte_sp = df.groupby('Sp Entomológica ').sum().sort_values(by='No. Individuos ', ascending=False)\n"
     ]
    },
    {
     "data": {
      "text/html": [
       "<div>\n",
       "<style scoped>\n",
       "    .dataframe tbody tr th:only-of-type {\n",
       "        vertical-align: middle;\n",
       "    }\n",
       "\n",
       "    .dataframe tbody tr th {\n",
       "        vertical-align: top;\n",
       "    }\n",
       "\n",
       "    .dataframe thead th {\n",
       "        text-align: right;\n",
       "    }\n",
       "</style>\n",
       "<table border=\"1\" class=\"dataframe\">\n",
       "  <thead>\n",
       "    <tr style=\"text-align: right;\">\n",
       "      <th></th>\n",
       "      <th>Sp Entomológica</th>\n",
       "      <th>Unnamed: 0</th>\n",
       "      <th>No. Individuos</th>\n",
       "    </tr>\n",
       "  </thead>\n",
       "  <tbody>\n",
       "    <tr>\n",
       "      <th>0</th>\n",
       "      <td>Sp3</td>\n",
       "      <td>1923740</td>\n",
       "      <td>3830.0</td>\n",
       "    </tr>\n",
       "    <tr>\n",
       "      <th>1</th>\n",
       "      <td>Sp4</td>\n",
       "      <td>457470</td>\n",
       "      <td>870.0</td>\n",
       "    </tr>\n",
       "    <tr>\n",
       "      <th>2</th>\n",
       "      <td>Sp2</td>\n",
       "      <td>371690</td>\n",
       "      <td>590.0</td>\n",
       "    </tr>\n",
       "    <tr>\n",
       "      <th>3</th>\n",
       "      <td>Sp1</td>\n",
       "      <td>643830</td>\n",
       "      <td>560.0</td>\n",
       "    </tr>\n",
       "    <tr>\n",
       "      <th>4</th>\n",
       "      <td>Sp70</td>\n",
       "      <td>324730</td>\n",
       "      <td>550.0</td>\n",
       "    </tr>\n",
       "    <tr>\n",
       "      <th>5</th>\n",
       "      <td>Sp136</td>\n",
       "      <td>64950</td>\n",
       "      <td>500.0</td>\n",
       "    </tr>\n",
       "    <tr>\n",
       "      <th>6</th>\n",
       "      <td>Sp77</td>\n",
       "      <td>236850</td>\n",
       "      <td>430.0</td>\n",
       "    </tr>\n",
       "    <tr>\n",
       "      <th>7</th>\n",
       "      <td>Sp43</td>\n",
       "      <td>385280</td>\n",
       "      <td>300.0</td>\n",
       "    </tr>\n",
       "  </tbody>\n",
       "</table>\n",
       "</div>"
      ],
      "text/plain": [
       "  Sp Entomológica   Unnamed: 0  No. Individuos \n",
       "0              Sp3     1923740           3830.0\n",
       "1              Sp4      457470            870.0\n",
       "2              Sp2      371690            590.0\n",
       "3              Sp1      643830            560.0\n",
       "4             Sp70      324730            550.0\n",
       "5            Sp136       64950            500.0\n",
       "6             Sp77      236850            430.0\n",
       "7             Sp43      385280            300.0"
      ]
     },
     "execution_count": 151,
     "metadata": {},
     "output_type": "execute_result"
    }
   ],
   "source": [
    "# conteo de especies\n",
    "conte_sp = df.groupby('Sp Entomológica ').sum().sort_values(by='No. Individuos ', ascending=False)\n",
    "conte_sp = conte_sp.reset_index()\n",
    "conte_sp.head(8)"
   ]
  },
  {
   "cell_type": "code",
   "execution_count": 152,
   "metadata": {
    "ExecuteTime": {
     "end_time": "2023-05-12T13:17:49.466164Z",
     "start_time": "2023-05-12T13:17:49.410839Z"
    },
    "collapsed": false
   },
   "outputs": [
    {
     "name": "stdout",
     "output_type": "stream",
     "text": [
      "13880.0\n",
      "67.37864077669903\n",
      "283.3044080827534\n",
      "<class 'pandas.core.frame.DataFrame'>\n",
      "Int64Index: 0 entries\n",
      "Data columns (total 3 columns):\n",
      " #   Column            Non-Null Count  Dtype  \n",
      "---  ------            --------------  -----  \n",
      " 0   Sp Entomológica   0 non-null      object \n",
      " 1   Unnamed: 0        0 non-null      int64  \n",
      " 2   No. Individuos    0 non-null      float64\n",
      "dtypes: float64(1), int64(1), object(1)\n",
      "memory usage: 0.0+ bytes\n"
     ]
    }
   ],
   "source": [
    "\n",
    "print(conte_sp['No. Individuos '].sum())\n",
    "print(conte_sp['No. Individuos '].mean())\n",
    "print(conte_sp['No. Individuos '].std())\n",
    "conte_sp.loc[conte_sp['No. Individuos '] <= 6].info()"
   ]
  },
  {
   "cell_type": "code",
   "execution_count": 153,
   "metadata": {},
   "outputs": [
    {
     "data": {
      "text/plain": [
       "<seaborn.axisgrid.FacetGrid at 0x17d1bd000>"
      ]
     },
     "execution_count": 153,
     "metadata": {},
     "output_type": "execute_result"
    },
    {
     "data": {
      "image/png": "[encoded data removed]",
      "text/plain": [
       "<Figure size 500x500 with 1 Axes>"
      ]
     },
     "metadata": {},
     "output_type": "display_data"
    }
   ],
   "source": [
    "sns.displot(conte_sp['No. Individuos '])"
   ]
  },
  {
   "cell_type": "code",
   "execution_count": 154,
   "metadata": {},
   "outputs": [
    {
     "data": {
      "text/plain": [
       "0      Sp3\n",
       "1      Sp4\n",
       "2      Sp2\n",
       "3      Sp1\n",
       "4     Sp70\n",
       "5    Sp136\n",
       "6     Sp77\n",
       "Name: Sp Entomológica , dtype: object"
      ]
     },
     "execution_count": 154,
     "metadata": {},
     "output_type": "execute_result"
    }
   ],
   "source": [
    "conte_sp.loc[conte_sp['No. Individuos '] >= (conte_sp['No. Individuos '].mean() + \n",
    "                                             conte_sp['No. Individuos '].std()), 'Sp Entomológica ']"
   ]
  },
  {
   "cell_type": "code",
   "execution_count": 155,
   "metadata": {},
   "outputs": [
    {
     "data": {
      "text/plain": [
       "25"
      ]
     },
     "execution_count": 155,
     "metadata": {},
     "output_type": "execute_result"
    }
   ],
   "source": [
    "len(conte_sp.loc[(conte_sp['No. Individuos '] < (conte_sp['No. Individuos '].mean() + conte_sp['No. Individuos '].std()))\n",
    "             & (conte_sp['No. Individuos '] > conte_sp['No. Individuos '].mean() )])"
   ]
  },
  {
   "cell_type": "code",
   "execution_count": 156,
   "metadata": {},
   "outputs": [
    {
     "data": {
      "text/html": [
       "<div>\n",
       "<style scoped>\n",
       "    .dataframe tbody tr th:only-of-type {\n",
       "        vertical-align: middle;\n",
       "    }\n",
       "\n",
       "    .dataframe tbody tr th {\n",
       "        vertical-align: top;\n",
       "    }\n",
       "\n",
       "    .dataframe thead th {\n",
       "        text-align: right;\n",
       "    }\n",
       "</style>\n",
       "<table border=\"1\" class=\"dataframe\">\n",
       "  <thead>\n",
       "    <tr style=\"text-align: right;\">\n",
       "      <th></th>\n",
       "      <th>Sp Entomológica</th>\n",
       "      <th>Unnamed: 0</th>\n",
       "      <th>No. Individuos</th>\n",
       "    </tr>\n",
       "  </thead>\n",
       "  <tbody>\n",
       "    <tr>\n",
       "      <th>7</th>\n",
       "      <td>Sp43</td>\n",
       "      <td>385280</td>\n",
       "      <td>300.0</td>\n",
       "    </tr>\n",
       "    <tr>\n",
       "      <th>8</th>\n",
       "      <td>Sp9</td>\n",
       "      <td>355700</td>\n",
       "      <td>250.0</td>\n",
       "    </tr>\n",
       "    <tr>\n",
       "      <th>9</th>\n",
       "      <td>Sp44</td>\n",
       "      <td>194570</td>\n",
       "      <td>190.0</td>\n",
       "    </tr>\n",
       "    <tr>\n",
       "      <th>10</th>\n",
       "      <td>Sp80</td>\n",
       "      <td>30900</td>\n",
       "      <td>160.0</td>\n",
       "    </tr>\n",
       "    <tr>\n",
       "      <th>11</th>\n",
       "      <td>Sp89</td>\n",
       "      <td>64330</td>\n",
       "      <td>160.0</td>\n",
       "    </tr>\n",
       "    <tr>\n",
       "      <th>12</th>\n",
       "      <td>Sp131</td>\n",
       "      <td>132750</td>\n",
       "      <td>160.0</td>\n",
       "    </tr>\n",
       "    <tr>\n",
       "      <th>13</th>\n",
       "      <td>Sp140</td>\n",
       "      <td>200670</td>\n",
       "      <td>140.0</td>\n",
       "    </tr>\n",
       "    <tr>\n",
       "      <th>14</th>\n",
       "      <td>Sp76</td>\n",
       "      <td>320450</td>\n",
       "      <td>130.0</td>\n",
       "    </tr>\n",
       "    <tr>\n",
       "      <th>15</th>\n",
       "      <td>Sp66</td>\n",
       "      <td>197940</td>\n",
       "      <td>130.0</td>\n",
       "    </tr>\n",
       "    <tr>\n",
       "      <th>16</th>\n",
       "      <td>Sp6</td>\n",
       "      <td>294030</td>\n",
       "      <td>120.0</td>\n",
       "    </tr>\n",
       "    <tr>\n",
       "      <th>17</th>\n",
       "      <td>Sp51</td>\n",
       "      <td>227670</td>\n",
       "      <td>120.0</td>\n",
       "    </tr>\n",
       "    <tr>\n",
       "      <th>18</th>\n",
       "      <td>Sp10</td>\n",
       "      <td>161040</td>\n",
       "      <td>110.0</td>\n",
       "    </tr>\n",
       "    <tr>\n",
       "      <th>19</th>\n",
       "      <td>Sp32</td>\n",
       "      <td>219440</td>\n",
       "      <td>100.0</td>\n",
       "    </tr>\n",
       "    <tr>\n",
       "      <th>20</th>\n",
       "      <td>Sp23</td>\n",
       "      <td>92050</td>\n",
       "      <td>100.0</td>\n",
       "    </tr>\n",
       "    <tr>\n",
       "      <th>21</th>\n",
       "      <td>Sp202</td>\n",
       "      <td>34220</td>\n",
       "      <td>100.0</td>\n",
       "    </tr>\n",
       "    <tr>\n",
       "      <th>22</th>\n",
       "      <td>Sp18</td>\n",
       "      <td>254770</td>\n",
       "      <td>100.0</td>\n",
       "    </tr>\n",
       "    <tr>\n",
       "      <th>23</th>\n",
       "      <td>Sp72</td>\n",
       "      <td>126750</td>\n",
       "      <td>100.0</td>\n",
       "    </tr>\n",
       "    <tr>\n",
       "      <th>24</th>\n",
       "      <td>Sp185</td>\n",
       "      <td>67930</td>\n",
       "      <td>100.0</td>\n",
       "    </tr>\n",
       "    <tr>\n",
       "      <th>25</th>\n",
       "      <td>Sp53</td>\n",
       "      <td>95380</td>\n",
       "      <td>90.0</td>\n",
       "    </tr>\n",
       "    <tr>\n",
       "      <th>26</th>\n",
       "      <td>Sp126</td>\n",
       "      <td>129650</td>\n",
       "      <td>90.0</td>\n",
       "    </tr>\n",
       "    <tr>\n",
       "      <th>27</th>\n",
       "      <td>Sp68</td>\n",
       "      <td>97560</td>\n",
       "      <td>70.0</td>\n",
       "    </tr>\n",
       "    <tr>\n",
       "      <th>28</th>\n",
       "      <td>Sp63</td>\n",
       "      <td>95530</td>\n",
       "      <td>70.0</td>\n",
       "    </tr>\n",
       "    <tr>\n",
       "      <th>29</th>\n",
       "      <td>Sp130</td>\n",
       "      <td>66180</td>\n",
       "      <td>70.0</td>\n",
       "    </tr>\n",
       "    <tr>\n",
       "      <th>30</th>\n",
       "      <td>Sp173</td>\n",
       "      <td>33660</td>\n",
       "      <td>70.0</td>\n",
       "    </tr>\n",
       "    <tr>\n",
       "      <th>31</th>\n",
       "      <td>Sp16</td>\n",
       "      <td>128690</td>\n",
       "      <td>70.0</td>\n",
       "    </tr>\n",
       "  </tbody>\n",
       "</table>\n",
       "</div>"
      ],
      "text/plain": [
       "   Sp Entomológica   Unnamed: 0  No. Individuos \n",
       "7              Sp43      385280            300.0\n",
       "8               Sp9      355700            250.0\n",
       "9              Sp44      194570            190.0\n",
       "10             Sp80       30900            160.0\n",
       "11             Sp89       64330            160.0\n",
       "12            Sp131      132750            160.0\n",
       "13            Sp140      200670            140.0\n",
       "14             Sp76      320450            130.0\n",
       "15             Sp66      197940            130.0\n",
       "16              Sp6      294030            120.0\n",
       "17             Sp51      227670            120.0\n",
       "18             Sp10      161040            110.0\n",
       "19             Sp32      219440            100.0\n",
       "20             Sp23       92050            100.0\n",
       "21            Sp202       34220            100.0\n",
       "22             Sp18      254770            100.0\n",
       "23             Sp72      126750            100.0\n",
       "24            Sp185       67930            100.0\n",
       "25             Sp53       95380             90.0\n",
       "26            Sp126      129650             90.0\n",
       "27             Sp68       97560             70.0\n",
       "28             Sp63       95530             70.0\n",
       "29            Sp130       66180             70.0\n",
       "30            Sp173       33660             70.0\n",
       "31             Sp16      128690             70.0"
      ]
     },
     "execution_count": 156,
     "metadata": {},
     "output_type": "execute_result"
    }
   ],
   "source": [
    "conte_sp.loc[(conte_sp['No. Individuos '] < (conte_sp['No. Individuos '].mean() + conte_sp['No. Individuos '].std()))\n",
    "             & (conte_sp['No. Individuos '] > conte_sp['No. Individuos '].mean() )]"
   ]
  },
  {
   "cell_type": "code",
   "execution_count": 157,
   "metadata": {},
   "outputs": [
    {
     "data": {
      "image/png": "[encoded data removed]",
      "text/plain": [
       "<Figure size 1000x600 with 1 Axes>"
      ]
     },
     "metadata": {},
     "output_type": "display_data"
    }
   ],
   "source": [
    "data = {\n",
    "    'Categoría': [r'$x \\leq \\bar{x}$', r'$\\bar{x} < x \\leq \\bar{x} + \\sigma$' , r'$\\bar{x} + \\sigma < x$ '],\n",
    "    'Porcentaje': [84.46, 12.13, 3.39]\n",
    "}\n",
    "\n",
    "df_dis = pd.DataFrame(data)\n",
    "sns.set(style=\"whitegrid\")\n",
    "plt.figure(figsize=(10, 6))\n",
    "sns.barplot(x='Categoría', y='Porcentaje', data=df_dis)\n",
    "plt.title('Distribución de especies')\n",
    "plt.xlabel('Categoría')\n",
    "plt.ylabel('Porcentaje')\n",
    "plt.show()"
   ]
  },
  {
   "cell_type": "code",
   "execution_count": 158,
   "metadata": {
    "ExecuteTime": {
     "end_time": "2023-05-12T13:17:49.496917Z",
     "start_time": "2023-05-12T13:17:49.424844Z"
    },
    "collapsed": false
   },
   "outputs": [
    {
     "data": {
      "image/png": "[encoded data removed]",
      "text/plain": [
       "<Figure size 640x480 with 1 Axes>"
      ]
     },
     "metadata": {},
     "output_type": "display_data"
    }
   ],
   "source": [
    "# creacion de la grafica de pastel\n",
    "top_5 = conte_sp.iloc[:7]\n",
    "otros = pd.DataFrame({'Sp Entomológica ': 'otros', 'No. Individuos ': [conte_sp.iloc[7:]['No. Individuos '].sum()]})\n",
    "new_df = pd.concat([top_5, otros])\n",
    "\n",
    "# Creamos una nueva columna que refleje la agrupación de los datos\n",
    "new_df['agrupacion'] = new_df['Sp Entomológica ']\n",
    "new_df.loc[new_df['Sp Entomológica '].isin(top_5['Sp Entomológica '].tolist()) == False, 'agrupacion'] = 'Otros'\n",
    "# Creamos la gráfica de pastel utilizando la nueva columna agrupacion\n",
    "plt.pie(new_df['No. Individuos '], labels=new_df['agrupacion'], autopct='%1.1f%%')\n",
    "plt.title('Distribución especies en términos de No. de Individuos')\n",
    "plt.show()"
   ]
  },
  {
   "cell_type": "code",
   "execution_count": 159,
   "metadata": {
    "collapsed": false
   },
   "outputs": [],
   "source": [
    "# Convertimos la columna fecha en un objeto datetime\n",
    "df['Fecha'] = pd.to_datetime(df['Fecha'])\n",
    "\n",
    "# Creamos una nueva columna con el mes de cada fecha\n",
    "df['mes'] = df['Fecha'].dt.month\n",
    "\n",
    "# Agrupamos el DataFrame por la nueva columna de mes y contamos el número de ocurrencias en cada mes\n"
   ]
  },
  {
   "cell_type": "code",
   "execution_count": 160,
   "metadata": {},
   "outputs": [
    {
     "data": {
      "text/plain": [
       "int"
      ]
     },
     "execution_count": 160,
     "metadata": {},
     "output_type": "execute_result"
    }
   ],
   "source": [
    "type(df['mes'].tolist()[0])"
   ]
  },
  {
   "cell_type": "code",
   "execution_count": 161,
   "metadata": {},
   "outputs": [],
   "source": [
    "import calendar\n",
    "# Crear un diccionario para mapear los números de mes a los nombres en español\n",
    "meses_espanol = {i: calendar.month_name[i] for i in range(1, 13)}\n",
    "\n",
    "# Mapear los números de mes a los nombres de los meses en español\n",
    "df['mes'] = df['mes'].map(meses_espanol)"
   ]
  },
  {
   "cell_type": "code",
   "execution_count": 162,
   "metadata": {
    "collapsed": false
   },
   "outputs": [
    {
     "data": {
      "image/png": "[encoded data removed]",
      "text/plain": [
       "<Figure size 800x600 with 1 Axes>"
      ]
     },
     "metadata": {},
     "output_type": "display_data"
    }
   ],
   "source": [
    "# Establecer el tamaño de la figura\n",
    "plt.figure(figsize=(8, 6))\n",
    "\n",
    "# Crear la gráfica de barras\n",
    "plt.bar(df['mes'], df['No. Individuos '])\n",
    "\n",
    "# Agregar etiquetas y títulos\n",
    "plt.xlabel('Mes (Octubre 2021-Enero 2022)')\n",
    "plt.ylabel('Número de Individuos')\n",
    "plt.title('Individuos contabilizados por mes')\n",
    "\n",
    "# Mostrar la gráfica\n",
    "plt.show()"
   ]
  },
  {
   "cell_type": "code",
   "execution_count": 163,
   "metadata": {},
   "outputs": [
    {
     "data": {
      "text/plain": [
       "600"
      ]
     },
     "execution_count": 163,
     "metadata": {},
     "output_type": "execute_result"
    }
   ],
   "source": [
    "len(df.loc[df['Sp Entomológica '] == 'Sp3'])\n"
   ]
  },
  {
   "cell_type": "code",
   "execution_count": 164,
   "metadata": {},
   "outputs": [
    {
     "name": "stdout",
     "output_type": "stream",
     "text": [
      "promedio de individuos encontrados sp3 6.603448275862069\n",
      "std de individuos encontrados sp3 4.346557429883461\n"
     ]
    }
   ],
   "source": [
    "mean_sp3 = df.loc[df['Sp Entomológica '] == 'Sp3', 'No. Individuos '].mean()\n",
    "std_sp3 = df.loc[df['Sp Entomológica '] == 'Sp3', 'No. Individuos '].std()\n",
    "print('promedio de individuos encontrados sp3', mean_sp3)\n",
    "print('std de individuos encontrados sp3', std_sp3)"
   ]
  },
  {
   "cell_type": "code",
   "execution_count": 165,
   "metadata": {},
   "outputs": [
    {
     "name": "stdout",
     "output_type": "stream",
     "text": [
      "casos en lo que se encontraron pocos sp3 100\n",
      "casos en lo que se encontraron muchos sp3 110\n"
     ]
    }
   ],
   "source": [
    "print('casos en lo que se encontraron pocos sp3', len(df.loc[(df['Sp Entomológica '] == 'Sp3') & (df['No. Individuos '] < mean_sp3 - std_sp3)]))\n",
    "print('casos en lo que se encontraron muchos sp3', len(df.loc[(df['Sp Entomológica '] == 'Sp3') & (df['No. Individuos '] > mean_sp3 + std_sp3)]))"
   ]
  },
  {
   "cell_type": "code",
   "execution_count": 166,
   "metadata": {},
   "outputs": [
    {
     "data": {
      "text/html": [
       "<div>\n",
       "<style scoped>\n",
       "    .dataframe tbody tr th:only-of-type {\n",
       "        vertical-align: middle;\n",
       "    }\n",
       "\n",
       "    .dataframe tbody tr th {\n",
       "        vertical-align: top;\n",
       "    }\n",
       "\n",
       "    .dataframe thead th {\n",
       "        text-align: right;\n",
       "    }\n",
       "</style>\n",
       "<table border=\"1\" class=\"dataframe\">\n",
       "  <thead>\n",
       "    <tr style=\"text-align: right;\">\n",
       "      <th></th>\n",
       "      <th>No. Individuos</th>\n",
       "      <th>Casos</th>\n",
       "    </tr>\n",
       "  </thead>\n",
       "  <tbody>\n",
       "    <tr>\n",
       "      <th>8</th>\n",
       "      <td>1.0</td>\n",
       "      <td>30</td>\n",
       "    </tr>\n",
       "    <tr>\n",
       "      <th>2</th>\n",
       "      <td>2.0</td>\n",
       "      <td>70</td>\n",
       "    </tr>\n",
       "    <tr>\n",
       "      <th>1</th>\n",
       "      <td>3.0</td>\n",
       "      <td>70</td>\n",
       "    </tr>\n",
       "    <tr>\n",
       "      <th>0</th>\n",
       "      <td>4.0</td>\n",
       "      <td>110</td>\n",
       "    </tr>\n",
       "    <tr>\n",
       "      <th>5</th>\n",
       "      <td>5.0</td>\n",
       "      <td>40</td>\n",
       "    </tr>\n",
       "    <tr>\n",
       "      <th>13</th>\n",
       "      <td>6.0</td>\n",
       "      <td>10</td>\n",
       "    </tr>\n",
       "    <tr>\n",
       "      <th>10</th>\n",
       "      <td>7.0</td>\n",
       "      <td>20</td>\n",
       "    </tr>\n",
       "    <tr>\n",
       "      <th>9</th>\n",
       "      <td>8.0</td>\n",
       "      <td>20</td>\n",
       "    </tr>\n",
       "    <tr>\n",
       "      <th>4</th>\n",
       "      <td>9.0</td>\n",
       "      <td>50</td>\n",
       "    </tr>\n",
       "    <tr>\n",
       "      <th>3</th>\n",
       "      <td>10.0</td>\n",
       "      <td>50</td>\n",
       "    </tr>\n",
       "    <tr>\n",
       "      <th>14</th>\n",
       "      <td>11.0</td>\n",
       "      <td>10</td>\n",
       "    </tr>\n",
       "    <tr>\n",
       "      <th>7</th>\n",
       "      <td>12.0</td>\n",
       "      <td>30</td>\n",
       "    </tr>\n",
       "    <tr>\n",
       "      <th>15</th>\n",
       "      <td>13.0</td>\n",
       "      <td>10</td>\n",
       "    </tr>\n",
       "    <tr>\n",
       "      <th>6</th>\n",
       "      <td>14.0</td>\n",
       "      <td>40</td>\n",
       "    </tr>\n",
       "    <tr>\n",
       "      <th>12</th>\n",
       "      <td>16.0</td>\n",
       "      <td>10</td>\n",
       "    </tr>\n",
       "    <tr>\n",
       "      <th>11</th>\n",
       "      <td>18.0</td>\n",
       "      <td>10</td>\n",
       "    </tr>\n",
       "  </tbody>\n",
       "</table>\n",
       "</div>"
      ],
      "text/plain": [
       "    No. Individuos  Casos\n",
       "8              1.0     30\n",
       "2              2.0     70\n",
       "1              3.0     70\n",
       "0              4.0    110\n",
       "5              5.0     40\n",
       "13             6.0     10\n",
       "10             7.0     20\n",
       "9              8.0     20\n",
       "4              9.0     50\n",
       "3             10.0     50\n",
       "14            11.0     10\n",
       "7             12.0     30\n",
       "15            13.0     10\n",
       "6             14.0     40\n",
       "12            16.0     10\n",
       "11            18.0     10"
      ]
     },
     "execution_count": 166,
     "metadata": {},
     "output_type": "execute_result"
    }
   ],
   "source": [
    "sp3_encuentros = pd.DataFrame(df.loc[df['Sp Entomológica '] == 'Sp3', 'No. Individuos '].value_counts()).reset_index()\n",
    "sp3_encuentros = sp3_encuentros.rename(columns={'index': 'No. Individuos', 'No. Individuos ': 'Casos'})\n",
    "sp3_encuentros.sort_values(by='No. Individuos')"
   ]
  },
  {
   "cell_type": "code",
   "execution_count": 167,
   "metadata": {},
   "outputs": [
    {
     "data": {
      "text/plain": [
       "<seaborn.axisgrid.FacetGrid at 0x17d6635e0>"
      ]
     },
     "execution_count": 167,
     "metadata": {},
     "output_type": "execute_result"
    },
    {
     "data": {
      "image/png": "[encoded data removed]",
      "text/plain": [
       "<Figure size 500x500 with 1 Axes>"
      ]
     },
     "metadata": {},
     "output_type": "display_data"
    }
   ],
   "source": [
    "sns.lmplot(data=sp3_encuentros, y='Casos', x='No. Individuos')"
   ]
  },
  {
   "cell_type": "code",
   "execution_count": 168,
   "metadata": {},
   "outputs": [
    {
     "data": {
      "text/plain": [
       "<Axes: xlabel='No. Individuos', ylabel='Casos'>"
      ]
     },
     "execution_count": 168,
     "metadata": {},
     "output_type": "execute_result"
    },
    {
     "data": {
      "image/png": "[encoded data removed]",
      "text/plain": [
       "<Figure size 640x480 with 1 Axes>"
      ]
     },
     "metadata": {},
     "output_type": "display_data"
    }
   ],
   "source": [
    "sns.barplot(data=sp3_encuentros, x='No. Individuos', y='Casos')"
   ]
  },
  {
   "cell_type": "code",
   "execution_count": 169,
   "metadata": {},
   "outputs": [
    {
     "data": {
      "text/plain": [
       "<seaborn.axisgrid.FacetGrid at 0x17a46d720>"
      ]
     },
     "execution_count": 169,
     "metadata": {},
     "output_type": "execute_result"
    },
    {
     "data": {
      "image/png": "[encoded data removed]",
      "text/plain": [
       "<Figure size 500x500 with 1 Axes>"
      ]
     },
     "metadata": {},
     "output_type": "display_data"
    }
   ],
   "source": [
    "sns.displot(sp3_encuentros['No. Individuos'], kde=True)\n"
   ]
  },
  {
   "cell_type": "code",
   "execution_count": 170,
   "metadata": {},
   "outputs": [
    {
     "data": {
      "text/html": [
       "<div>\n",
       "<style scoped>\n",
       "    .dataframe tbody tr th:only-of-type {\n",
       "        vertical-align: middle;\n",
       "    }\n",
       "\n",
       "    .dataframe tbody tr th {\n",
       "        vertical-align: top;\n",
       "    }\n",
       "\n",
       "    .dataframe thead th {\n",
       "        text-align: right;\n",
       "    }\n",
       "</style>\n",
       "<table border=\"1\" class=\"dataframe\">\n",
       "  <thead>\n",
       "    <tr style=\"text-align: right;\">\n",
       "      <th></th>\n",
       "      <th>Unnamed: 0</th>\n",
       "      <th>Especie Vegetal</th>\n",
       "      <th>Sp Entomológica</th>\n",
       "      <th>No. Individuos</th>\n",
       "      <th>Suelo</th>\n",
       "      <th>Hojas</th>\n",
       "      <th>Hojas Ramas</th>\n",
       "      <th>Fruto</th>\n",
       "      <th>Tallo Ramas</th>\n",
       "      <th>Tallo Hojas</th>\n",
       "      <th>...</th>\n",
       "      <th>Vuelo Hojas</th>\n",
       "      <th>Vegetacion Aledaña</th>\n",
       "      <th>Flor Fruto</th>\n",
       "      <th>Vegetacion Tallo</th>\n",
       "      <th>Flor</th>\n",
       "      <th>Tronco</th>\n",
       "      <th>Vuelo Fruto</th>\n",
       "      <th>Vuelo Vegetacion</th>\n",
       "      <th>Sustrato</th>\n",
       "      <th>mes</th>\n",
       "    </tr>\n",
       "    <tr>\n",
       "      <th>Fecha</th>\n",
       "      <th></th>\n",
       "      <th></th>\n",
       "      <th></th>\n",
       "      <th></th>\n",
       "      <th></th>\n",
       "      <th></th>\n",
       "      <th></th>\n",
       "      <th></th>\n",
       "      <th></th>\n",
       "      <th></th>\n",
       "      <th></th>\n",
       "      <th></th>\n",
       "      <th></th>\n",
       "      <th></th>\n",
       "      <th></th>\n",
       "      <th></th>\n",
       "      <th></th>\n",
       "      <th></th>\n",
       "      <th></th>\n",
       "      <th></th>\n",
       "      <th></th>\n",
       "    </tr>\n",
       "  </thead>\n",
       "  <tbody>\n",
       "    <tr>\n",
       "      <th>2021-10-17</th>\n",
       "      <td>2869</td>\n",
       "      <td>Rhus standleyi</td>\n",
       "      <td>Sp3</td>\n",
       "      <td>10.0</td>\n",
       "      <td>NaN</td>\n",
       "      <td>si</td>\n",
       "      <td>NaN</td>\n",
       "      <td>NaN</td>\n",
       "      <td>NaN</td>\n",
       "      <td>NaN</td>\n",
       "      <td>...</td>\n",
       "      <td>NaN</td>\n",
       "      <td>NaN</td>\n",
       "      <td>NaN</td>\n",
       "      <td>NaN</td>\n",
       "      <td>NaN</td>\n",
       "      <td>NaN</td>\n",
       "      <td>NaN</td>\n",
       "      <td>NaN</td>\n",
       "      <td>Hojas</td>\n",
       "      <td>October</td>\n",
       "    </tr>\n",
       "    <tr>\n",
       "      <th>2021-10-17</th>\n",
       "      <td>2868</td>\n",
       "      <td>Rhus standleyi</td>\n",
       "      <td>Sp3</td>\n",
       "      <td>12.0</td>\n",
       "      <td>NaN</td>\n",
       "      <td>NaN</td>\n",
       "      <td>NaN</td>\n",
       "      <td>NaN</td>\n",
       "      <td>NaN</td>\n",
       "      <td>NaN</td>\n",
       "      <td>...</td>\n",
       "      <td>NaN</td>\n",
       "      <td>si</td>\n",
       "      <td>NaN</td>\n",
       "      <td>NaN</td>\n",
       "      <td>NaN</td>\n",
       "      <td>NaN</td>\n",
       "      <td>NaN</td>\n",
       "      <td>NaN</td>\n",
       "      <td>Vegetación Aledaña</td>\n",
       "      <td>October</td>\n",
       "    </tr>\n",
       "    <tr>\n",
       "      <th>2021-10-17</th>\n",
       "      <td>2863</td>\n",
       "      <td>Quercus invaginata</td>\n",
       "      <td>Sp3</td>\n",
       "      <td>10.0</td>\n",
       "      <td>NaN</td>\n",
       "      <td>NaN</td>\n",
       "      <td>NaN</td>\n",
       "      <td>NaN</td>\n",
       "      <td>NaN</td>\n",
       "      <td>NaN</td>\n",
       "      <td>...</td>\n",
       "      <td>NaN</td>\n",
       "      <td>si</td>\n",
       "      <td>NaN</td>\n",
       "      <td>NaN</td>\n",
       "      <td>NaN</td>\n",
       "      <td>NaN</td>\n",
       "      <td>NaN</td>\n",
       "      <td>NaN</td>\n",
       "      <td>Vegetación Aledaña</td>\n",
       "      <td>October</td>\n",
       "    </tr>\n",
       "    <tr>\n",
       "      <th>2021-10-17</th>\n",
       "      <td>2864</td>\n",
       "      <td>Quercus invaginata</td>\n",
       "      <td>Sp3</td>\n",
       "      <td>10.0</td>\n",
       "      <td>NaN</td>\n",
       "      <td>NaN</td>\n",
       "      <td>NaN</td>\n",
       "      <td>NaN</td>\n",
       "      <td>si</td>\n",
       "      <td>NaN</td>\n",
       "      <td>...</td>\n",
       "      <td>NaN</td>\n",
       "      <td>NaN</td>\n",
       "      <td>NaN</td>\n",
       "      <td>NaN</td>\n",
       "      <td>NaN</td>\n",
       "      <td>NaN</td>\n",
       "      <td>NaN</td>\n",
       "      <td>NaN</td>\n",
       "      <td>Tallo Ramas</td>\n",
       "      <td>October</td>\n",
       "    </tr>\n",
       "    <tr>\n",
       "      <th>2021-10-17</th>\n",
       "      <td>2865</td>\n",
       "      <td>Quercus invaginata</td>\n",
       "      <td>Sp3</td>\n",
       "      <td>5.0</td>\n",
       "      <td>NaN</td>\n",
       "      <td>si</td>\n",
       "      <td>NaN</td>\n",
       "      <td>NaN</td>\n",
       "      <td>NaN</td>\n",
       "      <td>NaN</td>\n",
       "      <td>...</td>\n",
       "      <td>NaN</td>\n",
       "      <td>NaN</td>\n",
       "      <td>NaN</td>\n",
       "      <td>NaN</td>\n",
       "      <td>NaN</td>\n",
       "      <td>NaN</td>\n",
       "      <td>NaN</td>\n",
       "      <td>NaN</td>\n",
       "      <td>Hojas</td>\n",
       "      <td>October</td>\n",
       "    </tr>\n",
       "  </tbody>\n",
       "</table>\n",
       "<p>5 rows × 21 columns</p>\n",
       "</div>"
      ],
      "text/plain": [
       "            Unnamed: 0    Especie Vegetal  Sp Entomológica   No. Individuos   \\\n",
       "Fecha                                                                          \n",
       "2021-10-17        2869      Rhus standleyi              Sp3             10.0   \n",
       "2021-10-17        2868      Rhus standleyi              Sp3             12.0   \n",
       "2021-10-17        2863  Quercus invaginata              Sp3             10.0   \n",
       "2021-10-17        2864  Quercus invaginata              Sp3             10.0   \n",
       "2021-10-17        2865  Quercus invaginata              Sp3              5.0   \n",
       "\n",
       "           Suelo Hojas Hojas Ramas Fruto Tallo Ramas Tallo Hojas  ...  \\\n",
       "Fecha                                                             ...   \n",
       "2021-10-17   NaN    si         NaN   NaN         NaN         NaN  ...   \n",
       "2021-10-17   NaN   NaN         NaN   NaN         NaN         NaN  ...   \n",
       "2021-10-17   NaN   NaN         NaN   NaN         NaN         NaN  ...   \n",
       "2021-10-17   NaN   NaN         NaN   NaN          si         NaN  ...   \n",
       "2021-10-17   NaN    si         NaN   NaN         NaN         NaN  ...   \n",
       "\n",
       "           Vuelo Hojas Vegetacion Aledaña Flor Fruto Vegetacion Tallo Flor  \\\n",
       "Fecha                                                                        \n",
       "2021-10-17         NaN                NaN        NaN              NaN  NaN   \n",
       "2021-10-17         NaN                 si        NaN              NaN  NaN   \n",
       "2021-10-17         NaN                 si        NaN              NaN  NaN   \n",
       "2021-10-17         NaN                NaN        NaN              NaN  NaN   \n",
       "2021-10-17         NaN                NaN        NaN              NaN  NaN   \n",
       "\n",
       "           Tronco Vuelo Fruto Vuelo Vegetacion            Sustrato       mes  \n",
       "Fecha                                                                         \n",
       "2021-10-17    NaN         NaN               NaN               Hojas  October  \n",
       "2021-10-17    NaN         NaN               NaN  Vegetación Aledaña  October  \n",
       "2021-10-17    NaN         NaN               NaN  Vegetación Aledaña  October  \n",
       "2021-10-17    NaN         NaN               NaN         Tallo Ramas  October  \n",
       "2021-10-17    NaN         NaN               NaN               Hojas  October  \n",
       "\n",
       "[5 rows x 21 columns]"
      ]
     },
     "execution_count": 170,
     "metadata": {},
     "output_type": "execute_result"
    }
   ],
   "source": [
    "sp3 = df.loc[df['Sp Entomológica '] == 'Sp3']\n",
    "sp3 = sp3.set_index('Fecha')\n",
    "sp3.head()"
   ]
  },
  {
   "cell_type": "code",
   "execution_count": 171,
   "metadata": {},
   "outputs": [
    {
     "data": {
      "text/html": [
       "<div>\n",
       "<style scoped>\n",
       "    .dataframe tbody tr th:only-of-type {\n",
       "        vertical-align: middle;\n",
       "    }\n",
       "\n",
       "    .dataframe tbody tr th {\n",
       "        vertical-align: top;\n",
       "    }\n",
       "\n",
       "    .dataframe thead th {\n",
       "        text-align: right;\n",
       "    }\n",
       "</style>\n",
       "<table border=\"1\" class=\"dataframe\">\n",
       "  <thead>\n",
       "    <tr style=\"text-align: right;\">\n",
       "      <th></th>\n",
       "      <th>Especie Vegetal</th>\n",
       "    </tr>\n",
       "  </thead>\n",
       "  <tbody>\n",
       "    <tr>\n",
       "      <th>Quercus sebifera</th>\n",
       "      <td>30</td>\n",
       "    </tr>\n",
       "    <tr>\n",
       "      <th>Quercus polymorpha</th>\n",
       "      <td>30</td>\n",
       "    </tr>\n",
       "    <tr>\n",
       "      <th>Quercus rotundifolia</th>\n",
       "      <td>30</td>\n",
       "    </tr>\n",
       "    <tr>\n",
       "      <th>Quercus mexicana</th>\n",
       "      <td>30</td>\n",
       "    </tr>\n",
       "    <tr>\n",
       "      <th>Quercus invaginata</th>\n",
       "      <td>30</td>\n",
       "    </tr>\n",
       "    <tr>\n",
       "      <th>Ipomea murucoides</th>\n",
       "      <td>30</td>\n",
       "    </tr>\n",
       "    <tr>\n",
       "      <th>Quercus lancifolia</th>\n",
       "      <td>30</td>\n",
       "    </tr>\n",
       "    <tr>\n",
       "      <th>Leucaena</th>\n",
       "      <td>30</td>\n",
       "    </tr>\n",
       "    <tr>\n",
       "      <th>Eremosis corymbosa</th>\n",
       "      <td>30</td>\n",
       "    </tr>\n",
       "    <tr>\n",
       "      <th>Mariosousa acatlensis</th>\n",
       "      <td>20</td>\n",
       "    </tr>\n",
       "    <tr>\n",
       "      <th>Cercocarpus macrophyllus</th>\n",
       "      <td>20</td>\n",
       "    </tr>\n",
       "    <tr>\n",
       "      <th>Fouqueria formosa</th>\n",
       "      <td>20</td>\n",
       "    </tr>\n",
       "    <tr>\n",
       "      <th>Jacaranda mimosofolia</th>\n",
       "      <td>20</td>\n",
       "    </tr>\n",
       "    <tr>\n",
       "      <th>Rhus pachyrrhachis</th>\n",
       "      <td>20</td>\n",
       "    </tr>\n",
       "    <tr>\n",
       "      <th>Bauhinia variegata</th>\n",
       "      <td>20</td>\n",
       "    </tr>\n",
       "    <tr>\n",
       "      <th>Quercus autopista</th>\n",
       "      <td>20</td>\n",
       "    </tr>\n",
       "    <tr>\n",
       "      <th>Rhus standleyi</th>\n",
       "      <td>20</td>\n",
       "    </tr>\n",
       "    <tr>\n",
       "      <th>Albizia occidentalis var.plurijuga</th>\n",
       "      <td>10</td>\n",
       "    </tr>\n",
       "    <tr>\n",
       "      <th>Quercus microphylla</th>\n",
       "      <td>10</td>\n",
       "    </tr>\n",
       "    <tr>\n",
       "      <th>Cellis pallida</th>\n",
       "      <td>10</td>\n",
       "    </tr>\n",
       "    <tr>\n",
       "      <th>Quercus glaucoides</th>\n",
       "      <td>10</td>\n",
       "    </tr>\n",
       "    <tr>\n",
       "      <th>Tecoma stans</th>\n",
       "      <td>10</td>\n",
       "    </tr>\n",
       "    <tr>\n",
       "      <th>Cascabele thevetiodes</th>\n",
       "      <td>10</td>\n",
       "    </tr>\n",
       "    <tr>\n",
       "      <th>Isocoma veneta*</th>\n",
       "      <td>10</td>\n",
       "    </tr>\n",
       "    <tr>\n",
       "      <th>Quercus robur</th>\n",
       "      <td>10</td>\n",
       "    </tr>\n",
       "    <tr>\n",
       "      <th>Quercus ilex</th>\n",
       "      <td>10</td>\n",
       "    </tr>\n",
       "    <tr>\n",
       "      <th>Crataegus mexicana</th>\n",
       "      <td>10</td>\n",
       "    </tr>\n",
       "    <tr>\n",
       "      <th>Quercus suber</th>\n",
       "      <td>10</td>\n",
       "    </tr>\n",
       "    <tr>\n",
       "      <th>Quercus greggii</th>\n",
       "      <td>10</td>\n",
       "    </tr>\n",
       "    <tr>\n",
       "      <th>Quercus laeta</th>\n",
       "      <td>10</td>\n",
       "    </tr>\n",
       "    <tr>\n",
       "      <th>Quercus rugosa</th>\n",
       "      <td>10</td>\n",
       "    </tr>\n",
       "    <tr>\n",
       "      <th>Cupressus arizonica</th>\n",
       "      <td>10</td>\n",
       "    </tr>\n",
       "    <tr>\n",
       "      <th>Quercus agrifolia</th>\n",
       "      <td>10</td>\n",
       "    </tr>\n",
       "    <tr>\n",
       "      <th>Quercus alpescens</th>\n",
       "      <td>10</td>\n",
       "    </tr>\n",
       "  </tbody>\n",
       "</table>\n",
       "</div>"
      ],
      "text/plain": [
       "                                    Especie Vegetal \n",
       "Quercus sebifera                                  30\n",
       "Quercus polymorpha                                30\n",
       "Quercus rotundifolia                              30\n",
       "Quercus mexicana                                  30\n",
       "Quercus invaginata                                30\n",
       "Ipomea murucoides                                 30\n",
       "Quercus lancifolia                                30\n",
       "Leucaena                                          30\n",
       "Eremosis corymbosa                                30\n",
       "Mariosousa acatlensis                             20\n",
       "Cercocarpus macrophyllus                          20\n",
       "Fouqueria formosa                                 20\n",
       "Jacaranda mimosofolia                             20\n",
       "Rhus pachyrrhachis                                20\n",
       "Bauhinia variegata                                20\n",
       "Quercus autopista                                 20\n",
       "Rhus standleyi                                    20\n",
       "Albizia occidentalis var.plurijuga                10\n",
       "Quercus microphylla                               10\n",
       "Cellis pallida                                    10\n",
       "Quercus glaucoides                                10\n",
       "Tecoma stans                                      10\n",
       "Cascabele thevetiodes                             10\n",
       "Isocoma veneta*                                   10\n",
       "Quercus robur                                     10\n",
       "Quercus ilex                                      10\n",
       "Crataegus mexicana                                10\n",
       "Quercus suber                                     10\n",
       "Quercus greggii                                   10\n",
       "Quercus laeta                                     10\n",
       "Quercus rugosa                                    10\n",
       "Cupressus arizonica                               10\n",
       "Quercus agrifolia                                 10\n",
       "Quercus alpescens                                 10"
      ]
     },
     "execution_count": 171,
     "metadata": {},
     "output_type": "execute_result"
    }
   ],
   "source": [
    "pd.DataFrame(df.loc[df['Sp Entomológica '] == 'Sp3', 'Especie Vegetal '].value_counts())"
   ]
  },
  {
   "cell_type": "code",
   "execution_count": 172,
   "metadata": {
    "ExecuteTime": {
     "end_time": "2023-05-12T13:17:50.201916Z",
     "start_time": "2023-05-12T13:17:50.125634Z"
    },
    "collapsed": false
   },
   "outputs": [
    {
     "data": {
      "text/html": [
       "<div>\n",
       "<style scoped>\n",
       "    .dataframe tbody tr th:only-of-type {\n",
       "        vertical-align: middle;\n",
       "    }\n",
       "\n",
       "    .dataframe tbody tr th {\n",
       "        vertical-align: top;\n",
       "    }\n",
       "\n",
       "    .dataframe thead th {\n",
       "        text-align: right;\n",
       "    }\n",
       "</style>\n",
       "<table border=\"1\" class=\"dataframe\">\n",
       "  <thead>\n",
       "    <tr style=\"text-align: right;\">\n",
       "      <th></th>\n",
       "      <th>Especie Vegetal</th>\n",
       "    </tr>\n",
       "  </thead>\n",
       "  <tbody>\n",
       "    <tr>\n",
       "      <th>Quercus</th>\n",
       "      <td>300</td>\n",
       "    </tr>\n",
       "    <tr>\n",
       "      <th>Rhus</th>\n",
       "      <td>40</td>\n",
       "    </tr>\n",
       "    <tr>\n",
       "      <th>Eremosis</th>\n",
       "      <td>30</td>\n",
       "    </tr>\n",
       "    <tr>\n",
       "      <th>Leucaena</th>\n",
       "      <td>30</td>\n",
       "    </tr>\n",
       "    <tr>\n",
       "      <th>Ipomea</th>\n",
       "      <td>30</td>\n",
       "    </tr>\n",
       "    <tr>\n",
       "      <th>Jacaranda</th>\n",
       "      <td>20</td>\n",
       "    </tr>\n",
       "    <tr>\n",
       "      <th>Bauhinia</th>\n",
       "      <td>20</td>\n",
       "    </tr>\n",
       "    <tr>\n",
       "      <th>Cercocarpus</th>\n",
       "      <td>20</td>\n",
       "    </tr>\n",
       "    <tr>\n",
       "      <th>Fouqueria</th>\n",
       "      <td>20</td>\n",
       "    </tr>\n",
       "    <tr>\n",
       "      <th>Mariosousa</th>\n",
       "      <td>20</td>\n",
       "    </tr>\n",
       "    <tr>\n",
       "      <th>Albizia</th>\n",
       "      <td>10</td>\n",
       "    </tr>\n",
       "    <tr>\n",
       "      <th>Cascabele</th>\n",
       "      <td>10</td>\n",
       "    </tr>\n",
       "    <tr>\n",
       "      <th>Cellis</th>\n",
       "      <td>10</td>\n",
       "    </tr>\n",
       "    <tr>\n",
       "      <th>Isocoma</th>\n",
       "      <td>10</td>\n",
       "    </tr>\n",
       "    <tr>\n",
       "      <th>Crataegus</th>\n",
       "      <td>10</td>\n",
       "    </tr>\n",
       "    <tr>\n",
       "      <th>Cupressus</th>\n",
       "      <td>10</td>\n",
       "    </tr>\n",
       "    <tr>\n",
       "      <th>Tecoma</th>\n",
       "      <td>10</td>\n",
       "    </tr>\n",
       "  </tbody>\n",
       "</table>\n",
       "</div>"
      ],
      "text/plain": [
       "             Especie Vegetal \n",
       "Quercus                   300\n",
       "Rhus                       40\n",
       "Eremosis                   30\n",
       "Leucaena                   30\n",
       "Ipomea                     30\n",
       "Jacaranda                  20\n",
       "Bauhinia                   20\n",
       "Cercocarpus                20\n",
       "Fouqueria                  20\n",
       "Mariosousa                 20\n",
       "Albizia                    10\n",
       "Cascabele                  10\n",
       "Cellis                     10\n",
       "Isocoma                    10\n",
       "Crataegus                  10\n",
       "Cupressus                  10\n",
       "Tecoma                     10"
      ]
     },
     "execution_count": 172,
     "metadata": {},
     "output_type": "execute_result"
    }
   ],
   "source": [
    "'''México es el país con la mayor cantidad de especies de Quercus (llamadas encino localmente) del mundo, \n",
    "con alrededor de 125, siendo el género de árbol más común de dicha nación.'''\n",
    "pd.DataFrame(df.loc[df['Sp Entomológica '] == 'Sp3', 'Especie Vegetal '].str.split(' ').str[0].value_counts())\n"
   ]
  },
  {
   "cell_type": "code",
   "execution_count": 173,
   "metadata": {},
   "outputs": [
    {
     "data": {
      "text/html": [
       "<div>\n",
       "<style scoped>\n",
       "    .dataframe tbody tr th:only-of-type {\n",
       "        vertical-align: middle;\n",
       "    }\n",
       "\n",
       "    .dataframe tbody tr th {\n",
       "        vertical-align: top;\n",
       "    }\n",
       "\n",
       "    .dataframe thead th {\n",
       "        text-align: right;\n",
       "    }\n",
       "</style>\n",
       "<table border=\"1\" class=\"dataframe\">\n",
       "  <thead>\n",
       "    <tr style=\"text-align: right;\">\n",
       "      <th></th>\n",
       "      <th>Género</th>\n",
       "      <th>Conteo</th>\n",
       "    </tr>\n",
       "  </thead>\n",
       "  <tbody>\n",
       "    <tr>\n",
       "      <th>0</th>\n",
       "      <td>Quercus</td>\n",
       "      <td>2340</td>\n",
       "    </tr>\n",
       "    <tr>\n",
       "      <th>1</th>\n",
       "      <td>Rhus</td>\n",
       "      <td>400</td>\n",
       "    </tr>\n",
       "    <tr>\n",
       "      <th>2</th>\n",
       "      <td>Cupressus</td>\n",
       "      <td>390</td>\n",
       "    </tr>\n",
       "    <tr>\n",
       "      <th>3</th>\n",
       "      <td>Albizia</td>\n",
       "      <td>200</td>\n",
       "    </tr>\n",
       "    <tr>\n",
       "      <th>4</th>\n",
       "      <td>Bauhinia</td>\n",
       "      <td>200</td>\n",
       "    </tr>\n",
       "  </tbody>\n",
       "</table>\n",
       "</div>"
      ],
      "text/plain": [
       "      Género  Conteo\n",
       "0    Quercus    2340\n",
       "1       Rhus     400\n",
       "2  Cupressus     390\n",
       "3    Albizia     200\n",
       "4   Bauhinia     200"
      ]
     },
     "execution_count": 173,
     "metadata": {},
     "output_type": "execute_result"
    }
   ],
   "source": [
    "count_sp_veg = pd.DataFrame(df['Especie Vegetal '].str.split(' ').str[0].value_counts()).reset_index()\n",
    "count_sp_veg = count_sp_veg.rename(columns={'index': 'Género', 'Especie Vegetal ': 'Conteo'})\n",
    "count_sp_veg.head()"
   ]
  },
  {
   "cell_type": "code",
   "execution_count": 174,
   "metadata": {},
   "outputs": [
    {
     "data": {
      "image/png": "[encoded data removed]",
      "text/plain": [
       "<Figure size 640x480 with 1 Axes>"
      ]
     },
     "metadata": {},
     "output_type": "display_data"
    }
   ],
   "source": [
    "# count_sp_veg = df['Especie Vegetal '].str.split(' ').str[0].value_counts()\n",
    "# creacion de la grafica de pastel\n",
    "top_5 = count_sp_veg.iloc[:5]\n",
    "otros = pd.DataFrame({'Género': 'otros', 'Conteo': [count_sp_veg.iloc[5:]['Conteo'].sum()]})\n",
    "new_df = pd.concat([top_5, otros])\n",
    "\n",
    "# Creamos una nueva columna que refleje la agrupación de los datos\n",
    "new_df['agrupacion'] = new_df['Género']\n",
    "new_df.loc[new_df['Género'].isin(top_5['Género'].tolist()) == False, 'agrupacion'] = 'Otros'\n",
    "# Creamos la gráfica de pastel utilizando la nueva columna agrupacion\n",
    "plt.pie(new_df['Conteo'], labels=new_df['agrupacion'], autopct='%1.1f%%')\n",
    "plt.title('Distribución de Géneros')\n",
    "plt.show()"
   ]
  },
  {
   "cell_type": "code",
   "execution_count": 175,
   "metadata": {
    "ExecuteTime": {
     "end_time": "2023-05-12T13:41:37.658956Z",
     "start_time": "2023-05-12T13:41:37.652564Z"
    },
    "collapsed": false
   },
   "outputs": [
    {
     "name": "stdout",
     "output_type": "stream",
     "text": [
      "Index(['Sp Entomológica ', 'Conteo'], dtype='object')\n"
     ]
    },
    {
     "data": {
      "text/plain": [
       "<seaborn.axisgrid.FacetGrid at 0x17d18e170>"
      ]
     },
     "execution_count": 175,
     "metadata": {},
     "output_type": "execute_result"
    },
    {
     "data": {
      "image/png": "[encoded data removed]",
      "text/plain": [
       "<Figure size 500x500 with 1 Axes>"
      ]
     },
     "metadata": {},
     "output_type": "display_data"
    }
   ],
   "source": [
    "especies_cerca_quercus = pd.DataFrame(df.loc[df['Especie Vegetal '].str.startswith('Quercus'), 'Sp Entomológica ']).value_counts().reset_index()\n",
    "especies_cerca_quercus = especies_cerca_quercus.rename(columns={0: 'Conteo'})\n",
    "print(especies_cerca_quercus.columns)\n",
    "sns.catplot(x='Sp Entomológica ', y='Conteo', data=especies_cerca_quercus.head(10), kind='bar')"
   ]
  },
  {
   "cell_type": "code",
   "execution_count": 176,
   "metadata": {},
   "outputs": [],
   "source": [
    "df_sustratos = df.loc[df['Sp Entomológica '] == 'Sp3', [ 'Suelo', 'Hojas', 'Hojas Ramas', 'Fruto', 'Tallo Ramas', 'Tallo Hojas',\n",
    "       'Vuelo', 'Vuelo Hojas', 'Vegetacion Aledaña', 'Flor Fruto',\n",
    "       'Vegetacion Tallo', 'Flor', 'Tronco', 'Vuelo Fruto',\n",
    "       'Vuelo Vegetacion ']]"
   ]
  },
  {
   "cell_type": "code",
   "execution_count": 177,
   "metadata": {},
   "outputs": [
    {
     "data": {
      "text/plain": [
       "Index(['Suelo', 'Hojas', 'Hojas Ramas', 'Fruto', 'Tallo Ramas', 'Tallo Hojas',\n",
       "       'Vuelo', 'Vuelo Hojas', 'Vegetacion Aledaña', 'Flor Fruto',\n",
       "       'Vegetacion Tallo', 'Flor', 'Tronco', 'Vuelo Fruto',\n",
       "       'Vuelo Vegetacion '],\n",
       "      dtype='object')"
      ]
     },
     "execution_count": 177,
     "metadata": {},
     "output_type": "execute_result"
    }
   ],
   "source": [
    "df_sustratos.columns"
   ]
  },
  {
   "cell_type": "code",
   "execution_count": 178,
   "metadata": {},
   "outputs": [],
   "source": [
    "df_sustratos = pd.get_dummies(df_sustratos)\n",
    "df_sustratos['No. Individuos'] = df.loc[df['Sp Entomológica '] == 'Sp3', 'No. Individuos ']"
   ]
  },
  {
   "cell_type": "code",
   "execution_count": 179,
   "metadata": {},
   "outputs": [
    {
     "data": {
      "text/html": [
       "<div>\n",
       "<style scoped>\n",
       "    .dataframe tbody tr th:only-of-type {\n",
       "        vertical-align: middle;\n",
       "    }\n",
       "\n",
       "    .dataframe tbody tr th {\n",
       "        vertical-align: top;\n",
       "    }\n",
       "\n",
       "    .dataframe thead th {\n",
       "        text-align: right;\n",
       "    }\n",
       "</style>\n",
       "<table border=\"1\" class=\"dataframe\">\n",
       "  <thead>\n",
       "    <tr style=\"text-align: right;\">\n",
       "      <th></th>\n",
       "      <th>Suelo_si</th>\n",
       "      <th>Hojas_si</th>\n",
       "      <th>Hojas Ramas_si</th>\n",
       "      <th>Tallo Ramas_si</th>\n",
       "      <th>Vegetacion Aledaña_si</th>\n",
       "      <th>Vegetacion Tallo_si</th>\n",
       "      <th>No. Individuos</th>\n",
       "    </tr>\n",
       "  </thead>\n",
       "  <tbody>\n",
       "    <tr>\n",
       "      <th>2869</th>\n",
       "      <td>0.0</td>\n",
       "      <td>10.0</td>\n",
       "      <td>0.0</td>\n",
       "      <td>0.0</td>\n",
       "      <td>0.0</td>\n",
       "      <td>0.0</td>\n",
       "      <td>10.0</td>\n",
       "    </tr>\n",
       "    <tr>\n",
       "      <th>2868</th>\n",
       "      <td>0.0</td>\n",
       "      <td>0.0</td>\n",
       "      <td>0.0</td>\n",
       "      <td>0.0</td>\n",
       "      <td>12.0</td>\n",
       "      <td>0.0</td>\n",
       "      <td>12.0</td>\n",
       "    </tr>\n",
       "    <tr>\n",
       "      <th>2863</th>\n",
       "      <td>0.0</td>\n",
       "      <td>0.0</td>\n",
       "      <td>0.0</td>\n",
       "      <td>0.0</td>\n",
       "      <td>10.0</td>\n",
       "      <td>0.0</td>\n",
       "      <td>10.0</td>\n",
       "    </tr>\n",
       "    <tr>\n",
       "      <th>2864</th>\n",
       "      <td>0.0</td>\n",
       "      <td>0.0</td>\n",
       "      <td>0.0</td>\n",
       "      <td>10.0</td>\n",
       "      <td>0.0</td>\n",
       "      <td>0.0</td>\n",
       "      <td>10.0</td>\n",
       "    </tr>\n",
       "    <tr>\n",
       "      <th>2865</th>\n",
       "      <td>0.0</td>\n",
       "      <td>5.0</td>\n",
       "      <td>0.0</td>\n",
       "      <td>0.0</td>\n",
       "      <td>0.0</td>\n",
       "      <td>0.0</td>\n",
       "      <td>5.0</td>\n",
       "    </tr>\n",
       "    <tr>\n",
       "      <th>...</th>\n",
       "      <td>...</td>\n",
       "      <td>...</td>\n",
       "      <td>...</td>\n",
       "      <td>...</td>\n",
       "      <td>...</td>\n",
       "      <td>...</td>\n",
       "      <td>...</td>\n",
       "    </tr>\n",
       "    <tr>\n",
       "      <th>3785</th>\n",
       "      <td>0.0</td>\n",
       "      <td>0.0</td>\n",
       "      <td>0.0</td>\n",
       "      <td>0.0</td>\n",
       "      <td>2.0</td>\n",
       "      <td>0.0</td>\n",
       "      <td>2.0</td>\n",
       "    </tr>\n",
       "    <tr>\n",
       "      <th>1169</th>\n",
       "      <td>0.0</td>\n",
       "      <td>0.0</td>\n",
       "      <td>0.0</td>\n",
       "      <td>0.0</td>\n",
       "      <td>2.0</td>\n",
       "      <td>0.0</td>\n",
       "      <td>2.0</td>\n",
       "    </tr>\n",
       "    <tr>\n",
       "      <th>6401</th>\n",
       "      <td>0.0</td>\n",
       "      <td>0.0</td>\n",
       "      <td>0.0</td>\n",
       "      <td>0.0</td>\n",
       "      <td>2.0</td>\n",
       "      <td>0.0</td>\n",
       "      <td>2.0</td>\n",
       "    </tr>\n",
       "    <tr>\n",
       "      <th>3131</th>\n",
       "      <td>0.0</td>\n",
       "      <td>0.0</td>\n",
       "      <td>0.0</td>\n",
       "      <td>0.0</td>\n",
       "      <td>2.0</td>\n",
       "      <td>0.0</td>\n",
       "      <td>2.0</td>\n",
       "    </tr>\n",
       "    <tr>\n",
       "      <th>5093</th>\n",
       "      <td>0.0</td>\n",
       "      <td>0.0</td>\n",
       "      <td>0.0</td>\n",
       "      <td>0.0</td>\n",
       "      <td>2.0</td>\n",
       "      <td>0.0</td>\n",
       "      <td>2.0</td>\n",
       "    </tr>\n",
       "  </tbody>\n",
       "</table>\n",
       "<p>600 rows × 7 columns</p>\n",
       "</div>"
      ],
      "text/plain": [
       "      Suelo_si  Hojas_si  Hojas Ramas_si  Tallo Ramas_si  \\\n",
       "2869       0.0      10.0             0.0             0.0   \n",
       "2868       0.0       0.0             0.0             0.0   \n",
       "2863       0.0       0.0             0.0             0.0   \n",
       "2864       0.0       0.0             0.0            10.0   \n",
       "2865       0.0       5.0             0.0             0.0   \n",
       "...        ...       ...             ...             ...   \n",
       "3785       0.0       0.0             0.0             0.0   \n",
       "1169       0.0       0.0             0.0             0.0   \n",
       "6401       0.0       0.0             0.0             0.0   \n",
       "3131       0.0       0.0             0.0             0.0   \n",
       "5093       0.0       0.0             0.0             0.0   \n",
       "\n",
       "      Vegetacion Aledaña_si  Vegetacion Tallo_si  No. Individuos  \n",
       "2869                    0.0                  0.0            10.0  \n",
       "2868                   12.0                  0.0            12.0  \n",
       "2863                   10.0                  0.0            10.0  \n",
       "2864                    0.0                  0.0            10.0  \n",
       "2865                    0.0                  0.0             5.0  \n",
       "...                     ...                  ...             ...  \n",
       "3785                    2.0                  0.0             2.0  \n",
       "1169                    2.0                  0.0             2.0  \n",
       "6401                    2.0                  0.0             2.0  \n",
       "3131                    2.0                  0.0             2.0  \n",
       "5093                    2.0                  0.0             2.0  \n",
       "\n",
       "[600 rows x 7 columns]"
      ]
     },
     "execution_count": 179,
     "metadata": {},
     "output_type": "execute_result"
    }
   ],
   "source": [
    "df_sustratos['No. Individuos'] = df_sustratos['No. Individuos'].fillna(0)\n",
    "for col in df_sustratos.columns.tolist():\n",
    "    if col != 'No. Individuos':\n",
    "        df_sustratos[col] = df_sustratos[col] * df_sustratos['No. Individuos']\n",
    "df_sustratos"
   ]
  },
  {
   "cell_type": "code",
   "execution_count": 180,
   "metadata": {},
   "outputs": [
    {
     "data": {
      "text/html": [
       "<div>\n",
       "<style scoped>\n",
       "    .dataframe tbody tr th:only-of-type {\n",
       "        vertical-align: middle;\n",
       "    }\n",
       "\n",
       "    .dataframe tbody tr th {\n",
       "        vertical-align: top;\n",
       "    }\n",
       "\n",
       "    .dataframe thead th {\n",
       "        text-align: right;\n",
       "    }\n",
       "</style>\n",
       "<table border=\"1\" class=\"dataframe\">\n",
       "  <thead>\n",
       "    <tr style=\"text-align: right;\">\n",
       "      <th></th>\n",
       "      <th>sutrato</th>\n",
       "      <th>num</th>\n",
       "    </tr>\n",
       "  </thead>\n",
       "  <tbody>\n",
       "    <tr>\n",
       "      <th>0</th>\n",
       "      <td>Suelo_si</td>\n",
       "      <td>280.0</td>\n",
       "    </tr>\n",
       "    <tr>\n",
       "      <th>1</th>\n",
       "      <td>Hojas_si</td>\n",
       "      <td>490.0</td>\n",
       "    </tr>\n",
       "    <tr>\n",
       "      <th>2</th>\n",
       "      <td>Hojas Ramas_si</td>\n",
       "      <td>20.0</td>\n",
       "    </tr>\n",
       "    <tr>\n",
       "      <th>3</th>\n",
       "      <td>Tallo Ramas_si</td>\n",
       "      <td>420.0</td>\n",
       "    </tr>\n",
       "    <tr>\n",
       "      <th>4</th>\n",
       "      <td>Vegetacion Aledaña_si</td>\n",
       "      <td>1940.0</td>\n",
       "    </tr>\n",
       "    <tr>\n",
       "      <th>5</th>\n",
       "      <td>Vegetacion Tallo_si</td>\n",
       "      <td>300.0</td>\n",
       "    </tr>\n",
       "    <tr>\n",
       "      <th>6</th>\n",
       "      <td>No. Individuos</td>\n",
       "      <td>3830.0</td>\n",
       "    </tr>\n",
       "  </tbody>\n",
       "</table>\n",
       "</div>"
      ],
      "text/plain": [
       "                 sutrato     num\n",
       "0               Suelo_si   280.0\n",
       "1               Hojas_si   490.0\n",
       "2         Hojas Ramas_si    20.0\n",
       "3         Tallo Ramas_si   420.0\n",
       "4  Vegetacion Aledaña_si  1940.0\n",
       "5    Vegetacion Tallo_si   300.0\n",
       "6         No. Individuos  3830.0"
      ]
     },
     "execution_count": 180,
     "metadata": {},
     "output_type": "execute_result"
    }
   ],
   "source": [
    "plaga = pd.DataFrame(df_sustratos.sum()).reset_index()\n",
    "plaga = plaga.rename(columns={0: 'num', 'index': 'sutrato'})\n",
    "plaga"
   ]
  },
  {
   "cell_type": "code",
   "execution_count": 181,
   "metadata": {},
   "outputs": [],
   "source": [
    "plaga['porcentaje'] = plaga['num'] * 100 / 3830"
   ]
  },
  {
   "cell_type": "code",
   "execution_count": 182,
   "metadata": {},
   "outputs": [
    {
     "data": {
      "text/html": [
       "<div>\n",
       "<style scoped>\n",
       "    .dataframe tbody tr th:only-of-type {\n",
       "        vertical-align: middle;\n",
       "    }\n",
       "\n",
       "    .dataframe tbody tr th {\n",
       "        vertical-align: top;\n",
       "    }\n",
       "\n",
       "    .dataframe thead th {\n",
       "        text-align: right;\n",
       "    }\n",
       "</style>\n",
       "<table border=\"1\" class=\"dataframe\">\n",
       "  <thead>\n",
       "    <tr style=\"text-align: right;\">\n",
       "      <th></th>\n",
       "      <th>sutrato</th>\n",
       "      <th>num</th>\n",
       "      <th>porcentaje</th>\n",
       "    </tr>\n",
       "  </thead>\n",
       "  <tbody>\n",
       "    <tr>\n",
       "      <th>0</th>\n",
       "      <td>Suelo_si</td>\n",
       "      <td>280.0</td>\n",
       "      <td>7.310705</td>\n",
       "    </tr>\n",
       "    <tr>\n",
       "      <th>1</th>\n",
       "      <td>Hojas_si</td>\n",
       "      <td>490.0</td>\n",
       "      <td>12.793734</td>\n",
       "    </tr>\n",
       "    <tr>\n",
       "      <th>2</th>\n",
       "      <td>Hojas Ramas_si</td>\n",
       "      <td>20.0</td>\n",
       "      <td>0.522193</td>\n",
       "    </tr>\n",
       "    <tr>\n",
       "      <th>3</th>\n",
       "      <td>Tallo Ramas_si</td>\n",
       "      <td>420.0</td>\n",
       "      <td>10.966057</td>\n",
       "    </tr>\n",
       "    <tr>\n",
       "      <th>4</th>\n",
       "      <td>Vegetacion Aledaña_si</td>\n",
       "      <td>1940.0</td>\n",
       "      <td>50.652742</td>\n",
       "    </tr>\n",
       "    <tr>\n",
       "      <th>5</th>\n",
       "      <td>Vegetacion Tallo_si</td>\n",
       "      <td>300.0</td>\n",
       "      <td>7.832898</td>\n",
       "    </tr>\n",
       "    <tr>\n",
       "      <th>6</th>\n",
       "      <td>No. Individuos</td>\n",
       "      <td>3830.0</td>\n",
       "      <td>100.000000</td>\n",
       "    </tr>\n",
       "  </tbody>\n",
       "</table>\n",
       "</div>"
      ],
      "text/plain": [
       "                 sutrato     num  porcentaje\n",
       "0               Suelo_si   280.0    7.310705\n",
       "1               Hojas_si   490.0   12.793734\n",
       "2         Hojas Ramas_si    20.0    0.522193\n",
       "3         Tallo Ramas_si   420.0   10.966057\n",
       "4  Vegetacion Aledaña_si  1940.0   50.652742\n",
       "5    Vegetacion Tallo_si   300.0    7.832898\n",
       "6         No. Individuos  3830.0  100.000000"
      ]
     },
     "execution_count": 182,
     "metadata": {},
     "output_type": "execute_result"
    }
   ],
   "source": [
    "plaga"
   ]
  }
 ],
 "metadata": {
  "kernelspec": {
   "display_name": "Python 3",
   "language": "python",
   "name": "python3"
  },
  "language_info": {
   "codemirror_mode": {
    "name": "ipython",
    "version": 3
   },
   "file_extension": ".py",
   "mimetype": "text/x-python",
   "name": "python",
   "nbconvert_exporter": "python",
   "pygments_lexer": "ipython3",
   "version": "3.10.9"
  }
 },
 "nbformat": 4,
 "nbformat_minor": 0
}
